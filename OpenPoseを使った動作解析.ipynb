{
  "cells": [
    {
      "cell_type": "markdown",
      "metadata": {
        "id": "view-in-github",
        "colab_type": "text"
      },
      "source": [
        "<a href=\"https://colab.research.google.com/github/MamedenQ/OpenPoseExample/blob/main/OpenPose%E3%82%92%E4%BD%BF%E3%81%A3%E3%81%9F%E5%8B%95%E4%BD%9C%E8%A7%A3%E6%9E%90.ipynb\" target=\"_parent\"><img src=\"https://colab.research.google.com/assets/colab-badge.svg\" alt=\"Open In Colab\"/></a>"
      ]
    },
    {
      "cell_type": "markdown",
      "metadata": {
        "id": "EKmdnlKs1v4D"
      },
      "source": [
        "# 環境確認"
      ]
    },
    {
      "cell_type": "code",
      "execution_count": null,
      "metadata": {
        "id": "9J4AWKav1jYx"
      },
      "outputs": [],
      "source": [
        "gpu_info = !nvidia-smi\n",
        "gpu_info = '\\n'.join(gpu_info)\n",
        "if gpu_info.find('failed') >= 0:\n",
        "  print('Not connected to a GPU')\n",
        "else:\n",
        "  print(gpu_info)\n",
        "\n",
        "from psutil import virtual_memory\n",
        "ram_gb = virtual_memory().total / 1e9\n",
        "print('Your runtime has {:.1f} gigabytes of available RAM\\n'.format(ram_gb))\n",
        "\n",
        "if ram_gb < 20:\n",
        "  print('Not using a high-RAM runtime')\n",
        "else:\n",
        "  print('You are using a high-RAM runtime!')"
      ]
    },
    {
      "cell_type": "markdown",
      "source": [
        "# マウント"
      ],
      "metadata": {
        "id": "HknOoWCe4yQ7"
      }
    },
    {
      "cell_type": "code",
      "source": [
        "# Google Drive のマウント（Google Drive のファイルを読み書きできるようにする）\n",
        "from google.colab import drive\n",
        "drive.mount('/content/drive')"
      ],
      "metadata": {
        "id": "jgNk1QGu4vd8"
      },
      "execution_count": null,
      "outputs": []
    },
    {
      "cell_type": "markdown",
      "metadata": {
        "id": "PunyyPAScrTF"
      },
      "source": [
        "# OpenPoseのインストール"
      ]
    },
    {
      "cell_type": "code",
      "execution_count": null,
      "metadata": {
        "id": "FOdkDhb6ga6N"
      },
      "outputs": [],
      "source": [
        "import os\n",
        "from os.path import exists, join, basename, splitext\n",
        "\n",
        "git_repo_url = 'https://github.com/CMU-Perceptual-Computing-Lab/openpose.git'\n",
        "project_name = splitext(basename(git_repo_url))[0]\n",
        "if not exists(project_name):\n",
        "  # see: https://github.com/CMU-Perceptual-Computing-Lab/openpose/issues/949\n",
        "  # install new CMake becaue of CUDA10\n",
        "  !wget -q https://cmake.org/files/v3.13/cmake-3.13.0-Linux-x86_64.tar.gz\n",
        "  !tar xfz cmake-3.13.0-Linux-x86_64.tar.gz --strip-components=1 -C /usr/local\n",
        "  # clone openpose\n",
        "  !git clone -q --depth 1 $git_repo_url\n",
        "  !sed -i 's/execute_process(COMMAND git checkout master WORKING_DIRECTORY ${CMAKE_SOURCE_DIR}\\/3rdparty\\/caffe)/execute_process(COMMAND git checkout f019d0dfe86f49d1140961f8c7dec22130c83154 WORKING_DIRECTORY ${CMAKE_SOURCE_DIR}\\/3rdparty\\/caffe)/g' openpose/CMakeLists.txt\n",
        "  # install system dependencies\n",
        "  !apt-get -qq install -y libatlas-base-dev libprotobuf-dev libleveldb-dev libsnappy-dev libhdf5-serial-dev protobuf-compiler libgflags-dev libgoogle-glog-dev liblmdb-dev opencl-headers ocl-icd-opencl-dev libviennacl-dev\n",
        "  # build openpose\n",
        "  !cd openpose && rm -rf build || true && mkdir build && cd build && cmake .. && make -j`nproc`"
      ]
    },
    {
      "cell_type": "markdown",
      "metadata": {
        "id": "X38L6tanrnrB"
      },
      "source": [
        "# 動画から動作解析"
      ]
    },
    {
      "cell_type": "markdown",
      "source": [
        "## 1.事前設定"
      ],
      "metadata": {
        "id": "0BwK-yAggpW6"
      }
    },
    {
      "cell_type": "markdown",
      "source": [
        "解析元動画情報入力"
      ],
      "metadata": {
        "id": "bp_tMEh3g9Z8"
      }
    },
    {
      "cell_type": "code",
      "source": [
        "# trueの場合はmovからmp4へ形式変換が行われる\n",
        "IS_MOV_FORMAT = True\n",
        "\n",
        "# 動画のファイル名を設定すること\n",
        "MOVIE_NAME = 'm3.mov'\n",
        "MOVIES_DIR = '/content/drive/MyDrive/Colaboratory/openpose/movies'"
      ],
      "metadata": {
        "id": "07wm6koXgrjM"
      },
      "execution_count": null,
      "outputs": []
    },
    {
      "cell_type": "markdown",
      "metadata": {
        "id": "iS2bAx1N3wOu"
      },
      "source": [
        "## 2.解析"
      ]
    },
    {
      "cell_type": "markdown",
      "metadata": {
        "id": "zl5jK38tbkJK"
      },
      "source": [
        "### 2.1.動画準備"
      ]
    },
    {
      "cell_type": "markdown",
      "metadata": {
        "id": "7dAaGiOP0H_0"
      },
      "source": [
        "MOV>MP4変換、または、動画コピー"
      ]
    },
    {
      "cell_type": "code",
      "execution_count": null,
      "metadata": {
        "id": "8KBOecYi0KXz"
      },
      "outputs": [],
      "source": [
        "!cd /content\n",
        "\n",
        "!rm analyze_movie.mp4\n",
        "\n",
        "if IS_MOV_FORMAT:\n",
        "    !ffmpeg -i {MOVIES_DIR}/{MOVIE_NAME} analyze_movie.mp4\n",
        "else:\n",
        "    !cp {MOVIES_DIR}/{MOVIE_NAME} .\n",
        "    !mv {MOVIE_NAME} analyze_movie.mp4"
      ]
    },
    {
      "cell_type": "markdown",
      "metadata": {
        "id": "0_txB4P00S-P"
      },
      "source": [
        "### 2.2.解析"
      ]
    },
    {
      "cell_type": "code",
      "execution_count": null,
      "metadata": {
        "id": "Gpb8klJ90U_Q"
      },
      "outputs": [],
      "source": [
        "!cd /content\n",
        "\n",
        "!rm -rf json\n",
        "!mkdir json\n",
        "\n",
        "!rm openpose.avi\n",
        "\n",
        "!cd openpose && ./build/examples/openpose/openpose.bin --video ../analyze_movie.mp4 --write_json ../json --display 0 --write_video ../openpose.avi"
      ]
    },
    {
      "cell_type": "markdown",
      "metadata": {
        "id": "b3ioGHPu0ZPw"
      },
      "source": [
        "AVI>MP4変換"
      ]
    },
    {
      "cell_type": "code",
      "execution_count": null,
      "metadata": {
        "id": "zP0nblQ60bYk"
      },
      "outputs": [],
      "source": [
        "!cd /content\n",
        "!rm analyzed.mp4\n",
        "\n",
        "!ffmpeg -y -loglevel info -i openpose.avi analyzed.mp4"
      ]
    },
    {
      "cell_type": "markdown",
      "metadata": {
        "id": "_6Cud2CleQBw"
      },
      "source": [
        "解析動画表示"
      ]
    },
    {
      "cell_type": "code",
      "execution_count": null,
      "metadata": {
        "id": "q7Xin5uheSC4"
      },
      "outputs": [],
      "source": [
        "def show_local_mp4_video(file_name, width=640, height=480):\n",
        "  import io\n",
        "  import base64\n",
        "  from IPython.display import HTML\n",
        "  video_encoded = base64.b64encode(io.open(file_name, 'rb').read())\n",
        "  return HTML(data='''<video width=\"{0}\" height=\"{1}\" alt=\"test\" controls>\n",
        "                        <source src=\"data:video/mp4;base64,{2}\" type=\"video/mp4\" />\n",
        "                      </video>'''.format(width, height, video_encoded.decode('ascii')))\n",
        "\n",
        "show_local_mp4_video('analyzed.mp4', width=960, height=720)"
      ]
    },
    {
      "cell_type": "markdown",
      "metadata": {
        "id": "qNh8mH90HsnL"
      },
      "source": [
        "### 2.3.解析済み動画コピー"
      ]
    },
    {
      "cell_type": "code",
      "execution_count": null,
      "metadata": {
        "id": "uCYSJwh0Hyqx"
      },
      "outputs": [],
      "source": [
        "!cp /content/analyzed.mp4 {MOVIES_DIR}"
      ]
    },
    {
      "cell_type": "markdown",
      "source": [
        "# 画像から動作解析"
      ],
      "metadata": {
        "id": "-St5iUW9kWbL"
      }
    },
    {
      "cell_type": "markdown",
      "metadata": {
        "id": "EtJiXZw-aiMa"
      },
      "source": [
        "## 解析"
      ]
    },
    {
      "cell_type": "markdown",
      "source": [
        "事前設定"
      ],
      "metadata": {
        "id": "Jv9T1nCek3FF"
      }
    },
    {
      "cell_type": "code",
      "source": [
        "# 画像格納ディレクトリ指定\n",
        "IMAGES_DIR = '/content/drive/MyDrive/Colaboratory/openpose/images'"
      ],
      "metadata": {
        "id": "3Ku0ueUpk4Uh"
      },
      "execution_count": null,
      "outputs": []
    },
    {
      "cell_type": "markdown",
      "source": [
        "解析"
      ],
      "metadata": {
        "id": "8O86Hbn6k4vY"
      }
    },
    {
      "cell_type": "code",
      "execution_count": null,
      "metadata": {
        "id": "mu1szHfrJ28s"
      },
      "outputs": [],
      "source": [
        "!cd /content\n",
        "\n",
        "JSON_DIR = IMAGES_DIR + '/json'\n",
        "OUTPUT_DIR = IMAGES_DIR + '/output'\n",
        "\n",
        "!rm -rf {JSON_DIR}\n",
        "!mkdir {JSON_DIR}\n",
        "\n",
        "!rm -rf {OUTPUT_DIR}\n",
        "!mkdir {OUTPUT_DIR}\n",
        "\n",
        "!cd openpose && ./build/examples/openpose/openpose.bin --image_dir {IMAGES_DIR} --write_json {JSON_DIR} --display 0 --write_images {OUTPUT_DIR}"
      ]
    }
  ],
  "metadata": {
    "accelerator": "GPU",
    "colab": {
      "collapsed_sections": [
        "PunyyPAScrTF",
        "qiHwtSDGKEQi",
        "9wV8cbK1lMai",
        "0_txB4P00S-P",
        "qNh8mH90HsnL",
        "EtJiXZw-aiMa",
        "cmQLbkndEHLJ"
      ],
      "machine_shape": "hm",
      "name": "OpenPoseを使った動作解析.ipynb",
      "provenance": [],
      "include_colab_link": true
    },
    "gpuClass": "standard",
    "kernelspec": {
      "display_name": "Python 3",
      "name": "python3"
    }
  },
  "nbformat": 4,
  "nbformat_minor": 0
}